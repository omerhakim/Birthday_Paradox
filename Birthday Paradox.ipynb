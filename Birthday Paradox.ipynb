{
 "cells": [
  {
   "cell_type": "code",
   "execution_count": 1,
   "metadata": {},
   "outputs": [],
   "source": [
    "import numpy as np\n",
    "import matplotlib.pyplot as plt\n",
    "from collections import Counter"
   ]
  },
  {
   "cell_type": "code",
   "execution_count": 2,
   "metadata": {},
   "outputs": [],
   "source": [
    "def birthday_clash(n):\n",
    "    \n",
    "    p=1\n",
    "    \n",
    "    for i in range(n):\n",
    "        p=p*((365-i)/365)\n",
    "        \n",
    "    return 1-p   "
   ]
  },
  {
   "cell_type": "code",
   "execution_count": 12,
   "metadata": {},
   "outputs": [
    {
     "data": {
      "text/plain": [
       "0.9991595759651571"
      ]
     },
     "execution_count": 12,
     "metadata": {},
     "output_type": "execute_result"
    }
   ],
   "source": [
    "birthday_clash(70)"
   ]
  },
  {
   "cell_type": "code",
   "execution_count": 14,
   "metadata": {},
   "outputs": [],
   "source": [
    " def graph_birthday():\n",
    "    graph = []\n",
    "    for i in range(1,100):\n",
    "        p = birthday_clash(i)\n",
    "        graph.append(p)\n",
    "    return graph  "
   ]
  },
  {
   "cell_type": "code",
   "execution_count": 17,
   "metadata": {},
   "outputs": [
    {
     "data": {
      "image/png": "[encoded data removed]",
      "text/plain": [
       "<Figure size 360x288 with 1 Axes>"
      ]
     },
     "metadata": {
      "needs_background": "light"
     },
     "output_type": "display_data"
    }
   ],
   "source": [
    "y = graph_birthday()\n",
    "x = np.arange(1,100,1)\n",
    "fig = plt.figure(figsize=(5,4))\n",
    "plt.xlabel('Number of Student at Class')\n",
    "plt.ylabel('Probabilty of Birthday Match')\n",
    "plt.plot(x, y,linewidth=4.0)\n",
    "plt.show()"
   ]
  },
  {
   "cell_type": "code",
   "execution_count": 27,
   "metadata": {},
   "outputs": [],
   "source": [
    "def birthday_paradox_C(people):\n",
    "    join_b = 0\n",
    "    one_jb = 0\n",
    "    two_jb = 0\n",
    "    three_jb = 0\n",
    "    four_jb = 0\n",
    "    five_jb = 0\n",
    "    six_jb = 0\n",
    "    seven_jb = 0\n",
    "    ###-------------------\n",
    "    \n",
    "    triple_b = 0\n",
    "    Quadruple_b = 0\n",
    "    quintuple_b = 0\n",
    "    hexagon_b = 0\n",
    "    \n",
    "    for i in range(2500000):\n",
    "        p = np.random.randint(low=1, high=365, size=people)\n",
    "        B = Counter(p)\n",
    "    \n",
    "        if 3 in B.values():\n",
    "            triple_b += 1\n",
    "        if 4 in B.values():\n",
    "            Quadruple_b += 1\n",
    "        if 5 in B.values():\n",
    "            quintuple_b += 1\n",
    "        if 6 in B.values():\n",
    "            hexagon_b += 1\n",
    "       \n",
    "  \n",
    "    \n",
    "        if len(B) != 23:\n",
    "            join_b += 1\n",
    "            \n",
    "        if len(B) == 22:\n",
    "            one_jb += 1    \n",
    "        elif (len(B)) == 21:\n",
    "            two_jb += 1\n",
    "        elif (len(B)) == 20:\n",
    "            three_jb += 1\n",
    "        elif (len(B)) == 19:\n",
    "            four_jb += 1\n",
    "        elif (len(B)) == 18:\n",
    "            five_jb += 1\n",
    "        elif (len(B)) == 17:\n",
    "            six_jb += 1\n",
    "        elif (len(B)) == 16:\n",
    "            seven_jb += 1\n",
    "            \n",
    "        \n",
    "            \n",
    "    return print(\"Percenteges of Classes with B Match:\", join_b/2500000,\n",
    "                 \n",
    "                 \"Classes with One Birthday Match:\", one_jb,\n",
    "                 \"Classes with Two Birthday Match:\", two_jb,\n",
    "                 \"Classes with Three Birthday Match:\",three_jb,\n",
    "                 \"Classes with Four Birthday Match:\",four_jb,\n",
    "                 \"Classes with Five Birthday Match:\",five_jb,\n",
    "                 \"Classes with Six Birthday Match:\",six_jb,\n",
    "                 \"Classes with Seven Birthday Match:\",seven_jb,\n",
    "                 \"----------\",\n",
    "                 \"Triple Birthday:\", triple_b,\n",
    "                 \"Quadruple Birthday:\",Quadruple_b,\n",
    "                 \"Quintuple Birthday:\",quintuple_b,\n",
    "                 \"Hexagon Birthday:\",hexagon_b,sep='\\n' )\n",
    "                 \n",
    "            \n",
    "            \n",
    "   "
   ]
  },
  {
   "cell_type": "code",
   "execution_count": 28,
   "metadata": {},
   "outputs": [
    {
     "name": "stdout",
     "output_type": "stream",
     "text": [
      "Percenteges of Classes with B Match:\n",
      "0.5083864\n",
      "Classes with One Birthday Match:\n",
      "909007\n",
      "Classes with Two Birthday Match:\n",
      "297440\n",
      "Classes with Three Birthday Match:\n",
      "56832\n",
      "Classes with Four Birthday Match:\n",
      "7036\n",
      "Classes with Five Birthday Match:\n",
      "615\n",
      "Classes with Six Birthday Match:\n",
      "33\n",
      "Classes with Seven Birthday Match:\n",
      "3\n",
      "----------\n",
      "Triple Birthday:\n",
      "31601\n",
      "Quadruple Birthday:\n",
      "427\n",
      "Quintuple Birthday:\n",
      "4\n",
      "Hexagon Birthday:\n",
      "0\n"
     ]
    }
   ],
   "source": [
    "birthday_paradox_C(23)"
   ]
  }
 ],
 "metadata": {
  "kernelspec": {
   "display_name": "Python 3",
   "language": "python",
   "name": "python3"
  },
  "language_info": {
   "codemirror_mode": {
    "name": "ipython",
    "version": 3
   },
   "file_extension": ".py",
   "mimetype": "text/x-python",
   "name": "python",
   "nbconvert_exporter": "python",
   "pygments_lexer": "ipython3",
   "version": "3.7.1"
  }
 },
 "nbformat": 4,
 "nbformat_minor": 2
}
